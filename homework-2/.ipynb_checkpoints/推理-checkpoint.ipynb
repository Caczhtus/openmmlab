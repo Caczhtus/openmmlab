{
 "cells": [
  {
   "cell_type": "code",
   "execution_count": 1,
   "id": "8c440f8b-cc86-494d-838c-982fb2eb8918",
   "metadata": {},
   "outputs": [
    {
     "name": "stderr",
     "output_type": "stream",
     "text": [
      "Duplicate key in file PosixPath('/HOME/scz0brk/.conda/envs/mmpre/lib/python3.8/site-packages/matplotlib/mpl-data/matplotlibrc'), line 275 ('font.sans-serif: msyh, Microsoft YaHei')\n"
     ]
    }
   ],
   "source": [
    "from mmpretrain import ImageClassificationInferencer\n",
    "import cv2\n",
    "import matplotlib.pyplot as plt\n",
    "inferencer = ImageClassificationInferencer('./resnet50_fintuneM2.py',\n",
    "                                           pretrained='./exp3_resnet50/best_accuracy_top1_epoch_8.pth')\n",
    "\n",
    "image_list = ['data/apple.jpeg', 'data/banana.jpeg', 'data/fruit.jpeg', 'data/grapes.jpg']\n",
    "image_list = ['../../'+i for i in image_list]\n",
    "\n",
    "fig, _ = plt.subplots(nrows=2, ncols=2,figsize=(15, 15))\n",
    "for i, ax in enumerate(fig.axes):\n",
    "    img = cv2.imread(image_list[i])[:, :, (2, 1, 0)]\n",
    "#     ax.axis(\"off\")\n",
    "#     ax.imshow(img)\n",
    "\n",
    "# plt.savefig(\"all_test_image.png\", bbox_inches='tight')\n",
    "# plt.show()"
   ]
  }
 ],
 "metadata": {
  "kernelspec": {
   "display_name": "Python (mmpre)",
   "language": "python",
   "name": "mmpre"
  },
  "language_info": {
   "codemirror_mode": {
    "name": "ipython",
    "version": 3
   },
   "file_extension": ".py",
   "mimetype": "text/x-python",
   "name": "python",
   "nbconvert_exporter": "python",
   "pygments_lexer": "ipython3",
   "version": "3.8.16"
  }
 },
 "nbformat": 4,
 "nbformat_minor": 5
}
